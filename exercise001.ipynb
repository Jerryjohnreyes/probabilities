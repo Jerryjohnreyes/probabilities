{
 "cells": [
  {
   "cell_type": "code",
   "execution_count": 2,
   "metadata": {},
   "outputs": [],
   "source": [
    "import numpy as np\n",
    "import random, math"
   ]
  },
  {
   "cell_type": "code",
   "execution_count": 137,
   "metadata": {},
   "outputs": [],
   "source": [
    "def experiment001():\n",
    "    '''The experiment is to roll a pair of dice together 24 times,\n",
    "    this function is returning the truth value of the event that al least \n",
    "    once a pair of aces has appered.'''\n",
    "    count = False\n",
    "    for i in range(24):\n",
    "        a = math.trunc(random.uniform(0,6))\n",
    "        b = math.trunc(random.uniform(0,6))\n",
    "        if (a * b == 1):\n",
    "            count = True\n",
    "            break\n",
    "    return int(count)\n",
    "\n",
    "def probability001(number):\n",
    "    '''The calculated probability for experiment 001 made NUMBER times.'''\n",
    "    #The documentation of a function is stored in function.__doc__\n",
    "    a = sum([experiment001() for i in range(number)])/number\n",
    "    print('The probability has event A happens is: ', a )\n",
    "    return a"
   ]
  },
  {
   "cell_type": "code",
   "execution_count": 138,
   "metadata": {},
   "outputs": [
    {
     "name": "stdout",
     "output_type": "stream",
     "text": [
      "The probability has event A happens is:  0.49197\n",
      "The probability has event A happens is:  0.49317\n",
      "The probability has event A happens is:  0.49303\n",
      "The probability has event A happens is:  0.49209\n",
      "The probability has event A happens is:  0.48919\n",
      "The probability has event A happens is:  0.49455\n"
     ]
    },
    {
     "data": {
      "text/plain": [
       "[0.49197, 0.49317, 0.49303, 0.49209, 0.48919, 0.49455]"
      ]
     },
     "execution_count": 138,
     "metadata": {},
     "output_type": "execute_result"
    }
   ],
   "source": [
    "[probability001(100000) for i in range(6)]"
   ]
  },
  {
   "cell_type": "code",
   "execution_count": null,
   "metadata": {},
   "outputs": [],
   "source": []
  }
 ],
 "metadata": {
  "kernelspec": {
   "display_name": "Python 3",
   "language": "python",
   "name": "python3"
  },
  "language_info": {
   "codemirror_mode": {
    "name": "ipython",
    "version": 3
   },
   "file_extension": ".py",
   "mimetype": "text/x-python",
   "name": "python",
   "nbconvert_exporter": "python",
   "pygments_lexer": "ipython3",
   "version": "3.7.6"
  }
 },
 "nbformat": 4,
 "nbformat_minor": 4
}
