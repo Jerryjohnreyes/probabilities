{
 "cells": [
  {
   "cell_type": "code",
   "execution_count": 39,
   "metadata": {},
   "outputs": [],
   "source": [
    "import random, math\n",
    "import numpy as np"
   ]
  },
  {
   "cell_type": "code",
   "execution_count": 40,
   "metadata": {},
   "outputs": [],
   "source": [
    "def experiment002():\n",
    "    '''Deal a five-card poker hand where the kings are assigned as the\n",
    "    13th card. This method is returning the number of king-cards a hand has.'''\n",
    "    poker_hand = [math.trunc(np.random.uniform(1,53)) for i in range(5)]\n",
    "    kings = [int(card % 13 == 0) for card in poker_hand]\n",
    "    return sum(kings)"
   ]
  },
  {
   "cell_type": "code",
   "execution_count": 41,
   "metadata": {},
   "outputs": [],
   "source": [
    "def probability002(number):\n",
    "    '''To calulate the probability that in a five-card poker hand are exactly\n",
    "    two kings, we will only select the experiments that have two kings, and add\n",
    "    those in the number of times that the experiment is repeated.'''\n",
    "    only_two_kings = [int(experiment002() == 2) for i in range(number)]\n",
    "    probab = sum(only_two_kings)/number\n",
    "    print(f\"The probability of having two kings in a poker hand is: {probab}\")\n",
    "    return probab"
   ]
  },
  {
   "cell_type": "code",
   "execution_count": 48,
   "metadata": {},
   "outputs": [
    {
     "name": "stdout",
     "output_type": "stream",
     "text": [
      "The probability of having two kings in a poker hand is: 0.04663\n",
      "The probability of having two kings in a poker hand is: 0.04671\n",
      "The probability of having two kings in a poker hand is: 0.04561\n",
      "The probability of having two kings in a poker hand is: 0.0463\n",
      "The probability of having two kings in a poker hand is: 0.0468\n"
     ]
    },
    {
     "data": {
      "text/plain": [
       "[0.04663, 0.04671, 0.04561, 0.0463, 0.0468]"
      ]
     },
     "execution_count": 48,
     "metadata": {},
     "output_type": "execute_result"
    }
   ],
   "source": [
    "[probability002(100000) for i in range(5)]"
   ]
  },
  {
   "cell_type": "code",
   "execution_count": null,
   "metadata": {},
   "outputs": [],
   "source": []
  }
 ],
 "metadata": {
  "kernelspec": {
   "display_name": "Python 3",
   "language": "python",
   "name": "python3"
  },
  "language_info": {
   "codemirror_mode": {
    "name": "ipython",
    "version": 3
   },
   "file_extension": ".py",
   "mimetype": "text/x-python",
   "name": "python",
   "nbconvert_exporter": "python",
   "pygments_lexer": "ipython3",
   "version": "3.7.6"
  }
 },
 "nbformat": 4,
 "nbformat_minor": 4
}
