{
 "cells": [
  {
   "cell_type": "code",
   "execution_count": 2,
   "metadata": {},
   "outputs": [],
   "source": [
    "import numpy as np\n",
    "import random, math"
   ]
  },
  {
   "cell_type": "code",
   "execution_count": 8,
   "metadata": {},
   "outputs": [],
   "source": [
    "def sampleFromSample(Sample_num, sample_num):\n",
    "    '''From a biggest SAMPLE there is going to be taken a \n",
    "    small sample, without replacement.'''\n",
    "    Sample = [1+i for i in range(Sample_num)]\n",
    "    sample = []\n",
    "    for j in range(sample_num):\n",
    "        position = int( round(random.uniform(0,len(Sample)-1),0) )\n",
    "        sample.append(Sample[position])\n",
    "        del Sample[position]\n",
    "    return sample"
   ]
  },
  {
   "cell_type": "code",
   "execution_count": 13,
   "metadata": {},
   "outputs": [],
   "source": [
    "def exercise003():\n",
    "    '''This function will result in the number of rotten eggs \n",
    "    from five eggs taken from a dozen.\n",
    "    Considering 1,2,3 are the rotten eggs'''\n",
    "    dozen = sampleFromSample(12,5)\n",
    "    rotten_eggs = 0\n",
    "    if (1 in dozen):\n",
    "        rotten_eggs = rotten_eggs + 1\n",
    "    if (2 in dozen):\n",
    "        rotten_eggs = rotten_eggs + 1\n",
    "    if (3 in dozen):\n",
    "        rotten_eggs = rotten_eggs + 1\n",
    "    return rotten_eggs"
   ]
  },
  {
   "cell_type": "code",
   "execution_count": 29,
   "metadata": {},
   "outputs": [],
   "source": [
    "def probability003(number):\n",
    "    '''This function will return the probability that in a sample\n",
    "    of five eggs there are exactly two rotten eggs.'''\n",
    "    hits = [(exercise003() == 2) for i in range(number)]\n",
    "    return sum(hits)/number"
   ]
  },
  {
   "cell_type": "code",
   "execution_count": 49,
   "metadata": {},
   "outputs": [
    {
     "data": {
      "text/plain": [
       "[0.3, 0.255, 0.28, 0.31, 0.315]"
      ]
     },
     "execution_count": 49,
     "metadata": {},
     "output_type": "execute_result"
    }
   ],
   "source": [
    "[probability003(200) for i in range(5)]"
   ]
  },
  {
   "cell_type": "code",
   "execution_count": null,
   "metadata": {},
   "outputs": [],
   "source": []
  }
 ],
 "metadata": {
  "kernelspec": {
   "display_name": "Python 3",
   "language": "python",
   "name": "python3"
  },
  "language_info": {
   "codemirror_mode": {
    "name": "ipython",
    "version": 3
   },
   "file_extension": ".py",
   "mimetype": "text/x-python",
   "name": "python",
   "nbconvert_exporter": "python",
   "pygments_lexer": "ipython3",
   "version": "3.7.6"
  }
 },
 "nbformat": 4,
 "nbformat_minor": 4
}
