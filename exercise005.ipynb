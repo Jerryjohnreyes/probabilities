{
 "cells": [
  {
   "cell_type": "code",
   "execution_count": 1,
   "id": "fa73e828",
   "metadata": {},
   "outputs": [],
   "source": [
    "import math, random\n",
    "import numpy as np"
   ]
  },
  {
   "cell_type": "code",
   "execution_count": 62,
   "id": "38bf1ae4",
   "metadata": {},
   "outputs": [],
   "source": [
    "couples = [i+1 for i in range(10)]"
   ]
  },
  {
   "cell_type": "code",
   "execution_count": 64,
   "id": "30998afe",
   "metadata": {},
   "outputs": [
    {
     "name": "stdout",
     "output_type": "stream",
     "text": [
      "1\n",
      "2\n",
      "3\n",
      "4\n",
      "5\n",
      "6\n",
      "7\n",
      "8\n",
      "9\n",
      "10\n"
     ]
    }
   ],
   "source": [
    "for item in couples:\n",
    "    print(item)\n",
    "    couples.append(item)\n",
    "    if(item ==10):\n",
    "        break"
   ]
  },
  {
   "cell_type": "code",
   "execution_count": 65,
   "id": "50353d12",
   "metadata": {},
   "outputs": [
    {
     "data": {
      "text/plain": [
       "[1, 2, 3, 4, 5, 6, 7, 8, 9, 10, 1, 2, 3, 4, 5, 6, 7, 8, 9, 10]"
      ]
     },
     "execution_count": 65,
     "metadata": {},
     "output_type": "execute_result"
    }
   ],
   "source": [
    "couples"
   ]
  },
  {
   "cell_type": "code",
   "execution_count": 6,
   "id": "f1fce9f5",
   "metadata": {},
   "outputs": [],
   "source": [
    "sample_taken = random.sample(couples, 9)"
   ]
  },
  {
   "cell_type": "code",
   "execution_count": 12,
   "id": "450d9d1f",
   "metadata": {},
   "outputs": [
    {
     "data": {
      "text/plain": [
       "[5, 3, 3, 7, 6, 8, 1, 2, 6]"
      ]
     },
     "execution_count": 12,
     "metadata": {},
     "output_type": "execute_result"
    }
   ],
   "source": [
    "sample_taken"
   ]
  },
  {
   "cell_type": "code",
   "execution_count": 58,
   "id": "86d37075",
   "metadata": {},
   "outputs": [],
   "source": [
    "count =0\n",
    "couples = []\n",
    "for i in range(len(sample_taken)):\n",
    "    for j in range(len(sample_taken)):\n",
    "        if (j == i):\n",
    "            continue\n",
    "        if sample_taken[i] in couples:\n",
    "            continue\n",
    "        if (sample_taken[i] == sample_taken[j]):\n",
    "            couples.append(sample_taken[i])\n",
    "            count += 1"
   ]
  },
  {
   "cell_type": "code",
   "execution_count": 59,
   "id": "c3a868dc",
   "metadata": {},
   "outputs": [
    {
     "data": {
      "text/plain": [
       "2"
      ]
     },
     "execution_count": 59,
     "metadata": {},
     "output_type": "execute_result"
    }
   ],
   "source": [
    "count"
   ]
  },
  {
   "cell_type": "code",
   "execution_count": 60,
   "id": "7ea7fb11",
   "metadata": {},
   "outputs": [
    {
     "data": {
      "text/plain": [
       "[3, 6]"
      ]
     },
     "execution_count": 60,
     "metadata": {},
     "output_type": "execute_result"
    }
   ],
   "source": [
    "couples"
   ]
  },
  {
   "cell_type": "code",
   "execution_count": null,
   "id": "bc5d484b",
   "metadata": {},
   "outputs": [],
   "source": []
  },
  {
   "cell_type": "code",
   "execution_count": 97,
   "id": "1dbb10cc",
   "metadata": {},
   "outputs": [],
   "source": [
    "def number_of_couples(number_couples, sample_size, couples_in_sample, times_experiment):\n",
    "    '''number_couples: is the number of couples in a room, sample_size: the size of the sample\n",
    "    taken from the total people, couples_in_sample: after drawn how many couples and\n",
    "    times_experiment: number of times the experiment was done.\n",
    "    '''    \n",
    "    parejas = [i+1 for i in range(number_couples)]\n",
    "    for item in parejas:\n",
    "        parejas.append(item)\n",
    "        if(item == number_couples):\n",
    "            break\n",
    "        \n",
    "    hits = 0\n",
    "    for k in range(times_experiment):\n",
    "        sample_taken = random.sample(parejas, sample_size)\n",
    "        count =0\n",
    "        couples = []\n",
    "        for i in range(len(sample_taken)):\n",
    "            for j in range(len(sample_taken)):\n",
    "                if (j == i):\n",
    "                    continue\n",
    "                if sample_taken[i] in couples:\n",
    "                    continue\n",
    "                if (sample_taken[i] == sample_taken[j]):\n",
    "                    couples.append(sample_taken[i])\n",
    "                    count += 1\n",
    "        if (count == couples_in_sample):\n",
    "            hits += 1\n",
    "    return hits/times_experiment"
   ]
  },
  {
   "cell_type": "code",
   "execution_count": 126,
   "id": "26843a5e",
   "metadata": {},
   "outputs": [
    {
     "data": {
      "text/plain": [
       "0.4849"
      ]
     },
     "execution_count": 126,
     "metadata": {},
     "output_type": "execute_result"
    }
   ],
   "source": [
    "number_of_couples(6, 4, 1, 10000)"
   ]
  },
  {
   "cell_type": "code",
   "execution_count": 131,
   "id": "cf8eefe0",
   "metadata": {},
   "outputs": [
    {
     "data": {
      "text/plain": [
       "0.199"
      ]
     },
     "execution_count": 131,
     "metadata": {},
     "output_type": "execute_result"
    }
   ],
   "source": [
    "number_of_couples(10,9,3, 1000)"
   ]
  },
  {
   "cell_type": "code",
   "execution_count": null,
   "id": "29e92595",
   "metadata": {},
   "outputs": [],
   "source": []
  }
 ],
 "metadata": {
  "kernelspec": {
   "display_name": "Python 3 (ipykernel)",
   "language": "python",
   "name": "python3"
  },
  "language_info": {
   "codemirror_mode": {
    "name": "ipython",
    "version": 3
   },
   "file_extension": ".py",
   "mimetype": "text/x-python",
   "name": "python",
   "nbconvert_exporter": "python",
   "pygments_lexer": "ipython3",
   "version": "3.7.11"
  }
 },
 "nbformat": 4,
 "nbformat_minor": 5
}
